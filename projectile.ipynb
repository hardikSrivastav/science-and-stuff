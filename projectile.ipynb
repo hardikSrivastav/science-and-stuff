{
 "cells": [
  {
   "cell_type": "code",
   "execution_count": 1,
   "metadata": {},
   "outputs": [],
   "source": [
    "import matplotlib.pyplot as plt\n",
    "import math\n",
    "import numpy as np\n",
    "import seaborn as sns\n",
    "import pandas as pd\n",
    "sns.set()"
   ]
  },
  {
   "cell_type": "code",
   "execution_count": 2,
   "metadata": {
    "scrolled": false
   },
   "outputs": [],
   "source": [
    "g, π = 9.81, math.pi\n",
    "\n",
    "def sin(α):\n",
    "    return math.sin(α)\n",
    "\n",
    "def cos(α):\n",
    "    return math.cos(α)\n",
    "\n",
    "def to_rad(α):\n",
    "    return int(α)*π/180\n",
    "\n",
    "def eqn(time, v, α, h):\n",
    "    r = v*cos(to_rad(α))*time\n",
    "    y = h+(v*sin(to_rad(α))*time - 0.5*g*(time**2))\n",
    "    return(r, y)"
   ]
  },
  {
   "cell_type": "code",
   "execution_count": 10,
   "metadata": {},
   "outputs": [],
   "source": [
    "def trajec(u, φ, θ, d):\n",
    "\n",
    "    \n",
    "    def proj(β):\n",
    "        x = []\n",
    "        y = []\n",
    "        t_ = []\n",
    "        if d == 0.0:\n",
    "            T = round(2*u*sin(to_rad(β))/g, 3)\n",
    "        else:\n",
    "            T = round((u*sin(to_rad(β)) + ((u*sin(to_rad(β)))**2+2*g*d)**0.5)/g, 3)\n",
    "        t = 0.0\n",
    "        while t<=T:\n",
    "            x.append(round(eqn(t, u, β, d)[0], 2))\n",
    "            y.append(round(eqn(t, u, β, d)[1], 2))\n",
    "            t = t + 0.001\n",
    "            t_.append(t)\n",
    "        return x, y, t_\n",
    "  \n",
    "    def graphs():\n",
    "            if φ == θ:\n",
    "                plt.plot(proj(φ)[0], proj(φ)[1])\n",
    "                plt.xlabel('Range')\n",
    "                plt.ylabel('Height')\n",
    "                plt.show()\n",
    "\n",
    "                print(max(proj(φ)[0]))\n",
    "            else:\n",
    "                plt.plot(proj(φ)[0], proj(φ)[1])\n",
    "                plt.plot(proj(θ)[0], proj(θ)[1])\n",
    "                plt.legend(['φ', 'θ'])\n",
    "                plt.xlabel('Range')\n",
    "                plt.ylabel('Height')\n",
    "                plt.show()\n",
    "        \n",
    "    def details():\n",
    "        index = ['φ', 'θ']\n",
    "        data = {'Angle (*)': [φ, θ], \n",
    "            'Max Height (m)':[max(proj(φ)[1]), max(proj(θ)[1])],\n",
    "               'Range (m)':[max(proj(φ)[0]), max(proj(θ)[0])],\n",
    "               'Time (s)':[proj(φ)[2][-1], proj(θ)[2][-1]]}\n",
    "        df = pd.DataFrame(data = data)\n",
    "        df.index = index\n",
    "        if φ == θ:\n",
    "            df = df.drop('θ', axis=0)\n",
    "            return display(df)\n",
    "        else:\n",
    "            return display(df)\n",
    "    \n",
    "    return graphs(), details()"
   ]
  },
  {
   "cell_type": "code",
   "execution_count": 11,
   "metadata": {
    "scrolled": false
   },
   "outputs": [],
   "source": [
    "u = int(input(\"Enter the intitial velocity: \"))\n",
    "φ = int(input(\"Enter the first angle: \"))\n",
    "θ = int(input(\"Enter the second angle: \"))\n",
    "d = int(input(\"Enter the intitial height: \"))"
   ]
  },
  {
   "cell_type": "code",
   "execution_count": 12,
   "metadata": {
    "scrolled": false
   },
   "outputs": [
    {
     "data": {
      "image/png": "[encoded data removed]",
      "text/plain": [
       "<Figure size 432x288 with 1 Axes>"
      ]
     },
     "metadata": {},
     "output_type": "display_data"
    },
    {
     "name": "stdout",
     "output_type": "stream",
     "text": [
      "14.68\n"
     ]
    },
    {
     "data": {
      "text/html": [
       "<div>\n",
       "<style scoped>\n",
       "    .dataframe tbody tr th:only-of-type {\n",
       "        vertical-align: middle;\n",
       "    }\n",
       "\n",
       "    .dataframe tbody tr th {\n",
       "        vertical-align: top;\n",
       "    }\n",
       "\n",
       "    .dataframe thead th {\n",
       "        text-align: right;\n",
       "    }\n",
       "</style>\n",
       "<table border=\"1\" class=\"dataframe\">\n",
       "  <thead>\n",
       "    <tr style=\"text-align: right;\">\n",
       "      <th></th>\n",
       "      <th>Angle (*)</th>\n",
       "      <th>Max Height (m)</th>\n",
       "      <th>Range (m)</th>\n",
       "      <th>Time (s)</th>\n",
       "    </tr>\n",
       "  </thead>\n",
       "  <tbody>\n",
       "    <tr>\n",
       "      <th>φ</th>\n",
       "      <td>45</td>\n",
       "      <td>3.67</td>\n",
       "      <td>14.68</td>\n",
       "      <td>1.731</td>\n",
       "    </tr>\n",
       "  </tbody>\n",
       "</table>\n",
       "</div>"
      ],
      "text/plain": [
       "   Angle (*)  Max Height (m)  Range (m)  Time (s)\n",
       "φ         45            3.67      14.68     1.731"
      ]
     },
     "metadata": {},
     "output_type": "display_data"
    },
    {
     "data": {
      "text/plain": [
       "(None, None)"
      ]
     },
     "execution_count": 12,
     "metadata": {},
     "output_type": "execute_result"
    }
   ],
   "source": [
    "trajec(u, φ, θ, d)"
   ]
  }
 ],
 "metadata": {
  "kernelspec": {
   "display_name": "Python py3-TF2.0",
   "language": "python",
   "name": "py3-tf2.0"
  },
  "language_info": {
   "codemirror_mode": {
    "name": "ipython",
    "version": 3
   },
   "file_extension": ".py",
   "mimetype": "text/x-python",
   "name": "python",
   "nbconvert_exporter": "python",
   "pygments_lexer": "ipython3",
   "version": "3.7.9"
  }
 },
 "nbformat": 4,
 "nbformat_minor": 4
}
